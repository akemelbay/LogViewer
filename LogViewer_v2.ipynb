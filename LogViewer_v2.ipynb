{
 "cells": [
  {
   "cell_type": "code",
   "execution_count": 1,
   "id": "039a4981-8ea5-463f-886e-5dc3e3ba6059",
   "metadata": {
    "tags": []
   },
   "outputs": [
    {
     "data": {
      "application/vnd.jupyter.widget-view+json": {
       "model_id": "a5299b690f404e42a302e26efb9e57a7",
       "version_major": 2,
       "version_minor": 0
      },
      "text/plain": [
       "FileChooser(path='/Users/aidar/Downloads', filename='', title='', show_hidden=False, select_desc='Select', cha…"
      ]
     },
     "metadata": {},
     "output_type": "display_data"
    },
    {
     "data": {
      "application/vnd.jupyter.widget-view+json": {
       "model_id": "f6a811757cb04ad19e3772b1e65b7090",
       "version_major": 2,
       "version_minor": 0
      },
      "text/plain": [
       "Box(children=(Dropdown(disabled=True, layout=Layout(width='200px'), options=(), value=None), Dropdown(disabled…"
      ]
     },
     "metadata": {},
     "output_type": "display_data"
    },
    {
     "data": {
      "application/vnd.jupyter.widget-view+json": {
       "model_id": "371bde05fc714d7fa5ebd1bedc69d7bc",
       "version_major": 2,
       "version_minor": 0
      },
      "text/plain": [
       "Box(children=(Output(),), layout=Layout(display='block', width='100%'))"
      ]
     },
     "metadata": {},
     "output_type": "display_data"
    }
   ],
   "source": [
    "from ipyfilechooser import FileChooser\n",
    "import pandas as pd\n",
    "import plotly.graph_objects as go\n",
    "import ipywidgets as widgets\n",
    "from ipywidgets import Layout, Button, Box\n",
    "from IPython.display import display\n",
    "import plotly.colors as pc\n",
    "import os.path\n",
    "#import plotly.io as pio\n",
    "\n",
    "# Create an Output widget\n",
    "output = widgets.Output()\n",
    "\n",
    "# Create a file chooser widget\n",
    "file_chooser = FileChooser(layout=Layout(width='100%'))\n",
    "file_chooser.filter_pattern = '*.csv'\n",
    "#file_chooser.title = 'Select a CSV file'\n",
    "if os.path.isdir('/Users/aidar/Downloads/'):\n",
    "    file_chooser.default_path = '/Users/aidar/Downloads/'\n",
    "\n",
    "# Create dropdown widgets for selecting x, y1, and y2 columns\n",
    "#x_dropdown = widgets.Dropdown(description='X-axis:', options=[], disabled=True)\n",
    "y1_dropdown = widgets.Dropdown(options=[], disabled=True,layout=Layout(width='200px'))\n",
    "y2_dropdown = widgets.Dropdown(options=[], disabled=True,layout=Layout(width='200px'))\n",
    "y3_dropdown = widgets.Dropdown(options=[], disabled=True,layout=Layout(width='200px'))\n",
    "\n",
    "# Create a function to update the dropdown options based on the selected CSV file\n",
    "def update_dropdown_options(change):\n",
    "    selected_file = file_chooser.selected\n",
    "    if selected_file:\n",
    "        df = pd.read_csv(selected_file, delimiter=',')\n",
    "        #x_dropdown.options = df.columns\n",
    "        #df.columns = df.columns.append('Blah')\n",
    "        y1_dropdown.value = None\n",
    "        #y1_dropdown.options = ['None'] + df.columns.tolist()\n",
    "        y1_dropdown.options = df.columns\n",
    "        y2_dropdown.value = None\n",
    "        y2_dropdown.options = df.columns\n",
    "        y3_dropdown.value = None\n",
    "        y3_dropdown.options = df.columns\n",
    "        #x_dropdown.disabled = False\n",
    "        y1_dropdown.disabled = False\n",
    "        y2_dropdown.disabled = False\n",
    "        y3_dropdown.disabled = False\n",
    "    \n",
    "# Register the function to be called when a file is selected\n",
    "file_chooser.register_callback(update_dropdown_options)\n",
    "\n",
    "# Define a function to handle the data plotting\n",
    "def plot_csv_data(change):\n",
    "    with output:\n",
    "        selected_file = file_chooser.selected\n",
    "        if selected_file:\n",
    "            df = pd.read_csv(selected_file,index_col=False)\n",
    "            #x_column = x_dropdown.value\n",
    "            y1_column = y1_dropdown.value\n",
    "            y2_column = y2_dropdown.value\n",
    "            y3_column = y3_dropdown.value\n",
    "\n",
    "            # Create subplots with two Y-axes\n",
    "            fig = go.Figure()\n",
    "            if y1_column:\n",
    "                fig.add_trace(go.Scattergl(x=df[' Elapsed Time'], y=df[y1_column], mode='lines', name=y1_column))\n",
    "            if y2_column:\n",
    "                fig.add_trace(go.Scattergl(x=df[' Elapsed Time'], y=df[y2_column], mode='lines', name=y2_column, yaxis='y2'))\n",
    "            if y3_column:\n",
    "                fig.add_trace(go.Scattergl(x=df[' Elapsed Time'], y=df[y3_column], mode='lines', name=y3_column, yaxis='y3'))\n",
    "\n",
    "                # Get a list of colors from a palette\n",
    "            colors = pc.qualitative.Plotly[:3]  # You can adjust the number of colors as needed\n",
    "\n",
    "                # Customize subplot appearance\n",
    "            fig.update_layout(\n",
    "                    autosize=True,\n",
    "                    #width=800, \n",
    "                    height=800,\n",
    "                    #title=dict(text=file_chooser.selected_filename, font=dict(size=10), automargin=True, yref='paper'),\n",
    "                    #xaxis=dict(title=x_column),\n",
    "                    xaxis=dict(title='Elapsed Time',tickformat='%H:%M',spikemode='across+toaxis',spikedash='solid',spikecolor='gray',spikethickness=1),\n",
    "                    yaxis=dict(title=y1_column,titlefont=dict(color=colors[0]),tickfont=dict(color=colors[0]),title_standoff=0),\n",
    "                    yaxis2=dict(title=y2_column, overlaying='y', side='left', anchor=\"free\",autoshift=True,titlefont=dict(color=colors[1]),tickfont=dict(color=colors[1]),title_standoff=0),\n",
    "                    yaxis3=dict(title=y3_column, overlaying='y', side='left', anchor=\"free\",autoshift=True,titlefont=dict(color=colors[2]),tickfont=dict(color=colors[2]),title_standoff=0),\n",
    "                    showlegend=False,\n",
    "                    #hovermode=\"x unified\"\n",
    "                    hovermode=\"x\",\n",
    "                    margin=dict(l=0, r=10, t=10, b=0),\n",
    "                    template=\"plotly_white\"\n",
    "                )\n",
    "                #fig.update_xaxes(tickformat=\"%M\")\n",
    "\n",
    "                # Set colors for the scatter plots\n",
    "            fig.update_traces(marker=dict(color=colors[0]), selector=dict(name=y1_column), hovertemplate=\"%{y}\")\n",
    "            fig.update_traces(marker=dict(color=colors[1]), selector=dict(name=y2_column), hovertemplate=\"%{y}\")\n",
    "            fig.update_traces(marker=dict(color=colors[2]), selector=dict(name=y3_column), hovertemplate=\"%{y}\")\n",
    "            output.clear_output(wait=True)\n",
    "            fig.show()\n",
    "\n",
    "\n",
    "# Register the function to be called when the plot button is clicked\n",
    "plot_button = widgets.Button(description='Plot',layout=Layout(width='70px'))\n",
    "plot_button.on_click(plot_csv_data)\n",
    "\n",
    "# Observe changes in x, y1, and y2 dropdown values and trigger the plot\n",
    "#def on_x_dropdown_change(change):\n",
    "#    plot_csv_data(None)\n",
    "\n",
    "def on_y1_dropdown_change(change):\n",
    "    plot_csv_data(None)\n",
    "\n",
    "def on_y2_dropdown_change(change):\n",
    "    plot_csv_data(None)\n",
    "    \n",
    "def on_y3_dropdown_change(change):\n",
    "    plot_csv_data(None)\n",
    "\n",
    "#x_dropdown.observe(on_x_dropdown_change, names='value')\n",
    "y1_dropdown.observe(on_y1_dropdown_change, names='value')\n",
    "y2_dropdown.observe(on_y2_dropdown_change, names='value')\n",
    "y3_dropdown.observe(on_y3_dropdown_change, names='value')\n",
    "\n",
    "dropdowns_layout = Layout(display='flex'\n",
    "                         )\n",
    "output_layout = Layout(display='block',\n",
    "                       width=\"100%\"\n",
    "                         )\n",
    "\n",
    "# Create a button to reset all dropdown values\n",
    "reset_button = widgets.Button(description='Reset',layout=Layout(width='70px'))\n",
    "def reset_dropdowns(change):\n",
    "    y1_dropdown.value = None\n",
    "    y2_dropdown.value = None\n",
    "    y3_dropdown.value = None\n",
    "reset_button.on_click(reset_dropdowns)\n",
    "\n",
    "# Display widgets in the JupyterLab notebook\n",
    "display(file_chooser)\n",
    "display(widgets.Box([y1_dropdown, y2_dropdown, y3_dropdown, plot_button, reset_button],layout=dropdowns_layout))\n",
    "display(widgets.Box([output],layout=output_layout))  # Display the output widget"
   ]
  },
  {
   "cell_type": "code",
   "execution_count": 1,
   "id": "f618cba1-97a0-43ed-b45c-4ba76fa335b6",
   "metadata": {},
   "outputs": [
    {
     "ename": "SyntaxError",
     "evalue": "invalid syntax (3461563358.py, line 1)",
     "output_type": "error",
     "traceback": [
      "\u001b[0;36m  Cell \u001b[0;32mIn[1], line 1\u001b[0;36m\u001b[0m\n\u001b[0;31m    jupyter nbconvert --to script LogViewer_v2.ipynb\u001b[0m\n\u001b[0m            ^\u001b[0m\n\u001b[0;31mSyntaxError\u001b[0m\u001b[0;31m:\u001b[0m invalid syntax\n"
     ]
    }
   ],
   "source": [
    "jupyter nbconvert --to script LogViewer_v2.ipynb"
   ]
  },
  {
   "cell_type": "code",
   "execution_count": 2,
   "id": "684e6669-85e1-4b0d-b94d-785521dcda13",
   "metadata": {},
   "outputs": [
    {
     "name": "stdout",
     "output_type": "stream",
     "text": [
      "Requirement already satisfied: nbconvert in /Users/aidar/Library/jupyterlab-desktop/jlab_server/lib/python3.8/site-packages (7.7.4)\n",
      "Requirement already satisfied: beautifulsoup4 in /Users/aidar/Library/jupyterlab-desktop/jlab_server/lib/python3.8/site-packages (from nbconvert) (4.12.2)\n",
      "Requirement already satisfied: bleach!=5.0.0 in /Users/aidar/Library/jupyterlab-desktop/jlab_server/lib/python3.8/site-packages (from nbconvert) (4.1.0)\n",
      "Requirement already satisfied: defusedxml in /Users/aidar/Library/jupyterlab-desktop/jlab_server/lib/python3.8/site-packages (from nbconvert) (0.7.1)\n",
      "Requirement already satisfied: importlib-metadata>=3.6 in /Users/aidar/Library/jupyterlab-desktop/jlab_server/lib/python3.8/site-packages (from nbconvert) (6.0.0)\n",
      "Requirement already satisfied: jinja2>=3.0 in /Users/aidar/Library/jupyterlab-desktop/jlab_server/lib/python3.8/site-packages (from nbconvert) (3.1.2)\n",
      "Requirement already satisfied: jupyter-core>=4.7 in /Users/aidar/Library/jupyterlab-desktop/jlab_server/lib/python3.8/site-packages (from nbconvert) (5.3.0)\n",
      "Requirement already satisfied: jupyterlab-pygments in /Users/aidar/Library/jupyterlab-desktop/jlab_server/lib/python3.8/site-packages (from nbconvert) (0.1.2)\n",
      "Requirement already satisfied: markupsafe>=2.0 in /Users/aidar/Library/jupyterlab-desktop/jlab_server/lib/python3.8/site-packages (from nbconvert) (2.1.1)\n",
      "Requirement already satisfied: mistune<4,>=2.0.3 in /Users/aidar/Library/jupyterlab-desktop/jlab_server/lib/python3.8/site-packages (from nbconvert) (2.0.4)\n",
      "Requirement already satisfied: nbclient>=0.5.0 in /Users/aidar/Library/jupyterlab-desktop/jlab_server/lib/python3.8/site-packages (from nbconvert) (0.5.13)\n",
      "Requirement already satisfied: nbformat>=5.7 in /Users/aidar/Library/jupyterlab-desktop/jlab_server/lib/python3.8/site-packages (from nbconvert) (5.7.0)\n",
      "Requirement already satisfied: packaging in /Users/aidar/Library/jupyterlab-desktop/jlab_server/lib/python3.8/site-packages (from nbconvert) (23.1)\n",
      "Requirement already satisfied: pandocfilters>=1.4.1 in /Users/aidar/Library/jupyterlab-desktop/jlab_server/lib/python3.8/site-packages (from nbconvert) (1.5.0)\n",
      "Requirement already satisfied: pygments>=2.4.1 in /Users/aidar/Library/jupyterlab-desktop/jlab_server/lib/python3.8/site-packages (from nbconvert) (2.15.1)\n",
      "Requirement already satisfied: tinycss2 in /Users/aidar/Library/jupyterlab-desktop/jlab_server/lib/python3.8/site-packages (from nbconvert) (1.2.1)\n",
      "Requirement already satisfied: traitlets>=5.1 in /Users/aidar/Library/jupyterlab-desktop/jlab_server/lib/python3.8/site-packages (from nbconvert) (5.7.1)\n",
      "Requirement already satisfied: six>=1.9.0 in /Users/aidar/Library/jupyterlab-desktop/jlab_server/lib/python3.8/site-packages (from bleach!=5.0.0->nbconvert) (1.16.0)\n",
      "Requirement already satisfied: webencodings in /Users/aidar/Library/jupyterlab-desktop/jlab_server/lib/python3.8/site-packages (from bleach!=5.0.0->nbconvert) (0.5.1)\n",
      "Requirement already satisfied: zipp>=0.5 in /Users/aidar/Library/jupyterlab-desktop/jlab_server/lib/python3.8/site-packages (from importlib-metadata>=3.6->nbconvert) (3.11.0)\n",
      "Requirement already satisfied: platformdirs>=2.5 in /Users/aidar/Library/jupyterlab-desktop/jlab_server/lib/python3.8/site-packages (from jupyter-core>=4.7->nbconvert) (3.10.0)\n",
      "Requirement already satisfied: jupyter-client>=6.1.5 in /Users/aidar/Library/jupyterlab-desktop/jlab_server/lib/python3.8/site-packages (from nbclient>=0.5.0->nbconvert) (8.1.0)\n",
      "Requirement already satisfied: nest-asyncio in /Users/aidar/Library/jupyterlab-desktop/jlab_server/lib/python3.8/site-packages (from nbclient>=0.5.0->nbconvert) (1.5.6)\n",
      "Requirement already satisfied: fastjsonschema in /Users/aidar/Library/jupyterlab-desktop/jlab_server/lib/python3.8/site-packages (from nbformat>=5.7->nbconvert) (2.16.2)\n",
      "Requirement already satisfied: jsonschema>=2.6 in /Users/aidar/Library/jupyterlab-desktop/jlab_server/lib/python3.8/site-packages (from nbformat>=5.7->nbconvert) (4.19.0)\n",
      "Requirement already satisfied: soupsieve>1.2 in /Users/aidar/Library/jupyterlab-desktop/jlab_server/lib/python3.8/site-packages (from beautifulsoup4->nbconvert) (2.4)\n",
      "Requirement already satisfied: attrs>=22.2.0 in /Users/aidar/Library/jupyterlab-desktop/jlab_server/lib/python3.8/site-packages (from jsonschema>=2.6->nbformat>=5.7->nbconvert) (23.1.0)\n",
      "Requirement already satisfied: importlib-resources>=1.4.0 in /Users/aidar/Library/jupyterlab-desktop/jlab_server/lib/python3.8/site-packages (from jsonschema>=2.6->nbformat>=5.7->nbconvert) (6.0.1)\n",
      "Requirement already satisfied: jsonschema-specifications>=2023.03.6 in /Users/aidar/Library/jupyterlab-desktop/jlab_server/lib/python3.8/site-packages (from jsonschema>=2.6->nbformat>=5.7->nbconvert) (2023.7.1)\n",
      "Requirement already satisfied: pkgutil-resolve-name>=1.3.10 in /Users/aidar/Library/jupyterlab-desktop/jlab_server/lib/python3.8/site-packages (from jsonschema>=2.6->nbformat>=5.7->nbconvert) (1.3.10)\n",
      "Requirement already satisfied: referencing>=0.28.4 in /Users/aidar/Library/jupyterlab-desktop/jlab_server/lib/python3.8/site-packages (from jsonschema>=2.6->nbformat>=5.7->nbconvert) (0.30.2)\n",
      "Requirement already satisfied: rpds-py>=0.7.1 in /Users/aidar/Library/jupyterlab-desktop/jlab_server/lib/python3.8/site-packages (from jsonschema>=2.6->nbformat>=5.7->nbconvert) (0.9.2)\n",
      "Requirement already satisfied: python-dateutil>=2.8.2 in /Users/aidar/Library/jupyterlab-desktop/jlab_server/lib/python3.8/site-packages (from jupyter-client>=6.1.5->nbclient>=0.5.0->nbconvert) (2.8.2)\n",
      "Requirement already satisfied: pyzmq>=23.0 in /Users/aidar/Library/jupyterlab-desktop/jlab_server/lib/python3.8/site-packages (from jupyter-client>=6.1.5->nbclient>=0.5.0->nbconvert) (25.1.0)\n",
      "Requirement already satisfied: tornado>=6.2 in /Users/aidar/Library/jupyterlab-desktop/jlab_server/lib/python3.8/site-packages (from jupyter-client>=6.1.5->nbclient>=0.5.0->nbconvert) (6.3.2)\n",
      "Note: you may need to restart the kernel to use updated packages.\n"
     ]
    }
   ],
   "source": [
    "pip install nbconvert"
   ]
  },
  {
   "cell_type": "code",
   "execution_count": 1,
   "id": "8af953e6-1e9d-45fb-bf29-81490e09b3c9",
   "metadata": {},
   "outputs": [
    {
     "ename": "SyntaxError",
     "evalue": "invalid syntax (3461563358.py, line 1)",
     "output_type": "error",
     "traceback": [
      "\u001b[0;36m  Cell \u001b[0;32mIn[1], line 1\u001b[0;36m\u001b[0m\n\u001b[0;31m    jupyter nbconvert --to script LogViewer_v2.ipynb\u001b[0m\n\u001b[0m            ^\u001b[0m\n\u001b[0;31mSyntaxError\u001b[0m\u001b[0;31m:\u001b[0m invalid syntax\n"
     ]
    }
   ],
   "source": [
    "jupyter nbconvert --to script LogViewer_v2.ipynb"
   ]
  },
  {
   "cell_type": "code",
   "execution_count": null,
   "id": "b0628ae9-4cdc-455d-a98a-fe9fa28f37e1",
   "metadata": {},
   "outputs": [],
   "source": []
  }
 ],
 "metadata": {
  "kernelspec": {
   "display_name": "Python 3 (ipykernel)",
   "language": "python",
   "name": "python3"
  },
  "language_info": {
   "codemirror_mode": {
    "name": "ipython",
    "version": 3
   },
   "file_extension": ".py",
   "mimetype": "text/x-python",
   "name": "python",
   "nbconvert_exporter": "python",
   "pygments_lexer": "ipython3",
   "version": "3.8.17"
  }
 },
 "nbformat": 4,
 "nbformat_minor": 5
}
